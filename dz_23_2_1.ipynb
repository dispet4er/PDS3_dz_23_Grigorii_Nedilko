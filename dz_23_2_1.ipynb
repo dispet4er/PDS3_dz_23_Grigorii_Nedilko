{
 "cells": [
  {
   "cell_type": "code",
   "execution_count": 1,
   "id": "6fde3dd5",
   "metadata": {},
   "outputs": [],
   "source": [
    "p_A = 0.95\n",
    "p_B = 0.9"
   ]
  },
  {
   "cell_type": "code",
   "execution_count": 2,
   "id": "f3536ba0",
   "metadata": {},
   "outputs": [],
   "source": [
    "# 2 will not work\n",
    "p_not_A_and_not_B = (1 - p_A) * (1 - p_B)"
   ]
  },
  {
   "cell_type": "code",
   "execution_count": 3,
   "id": "82070f13",
   "metadata": {},
   "outputs": [
    {
     "name": "stdout",
     "output_type": "stream",
     "text": [
      "Ймовірність того, що при аварії спрацює хоча б один сигналізатор: 0.995\n"
     ]
    }
   ],
   "source": [
    "# at least one will work\n",
    "p_at_least_one = 1 - p_not_A_and_not_B\n",
    "print(\"Ймовірність того, що при аварії спрацює хоча б один сигналізатор:\", p_at_least_one)"
   ]
  },
  {
   "cell_type": "code",
   "execution_count": null,
   "id": "ca39148e",
   "metadata": {},
   "outputs": [],
   "source": []
  }
 ],
 "metadata": {
  "kernelspec": {
   "display_name": "Python 3 (ipykernel)",
   "language": "python",
   "name": "python3"
  },
  "language_info": {
   "codemirror_mode": {
    "name": "ipython",
    "version": 3
   },
   "file_extension": ".py",
   "mimetype": "text/x-python",
   "name": "python",
   "nbconvert_exporter": "python",
   "pygments_lexer": "ipython3",
   "version": "3.10.8"
  }
 },
 "nbformat": 4,
 "nbformat_minor": 5
}
