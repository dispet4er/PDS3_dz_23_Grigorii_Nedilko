{
 "cells": [
  {
   "cell_type": "code",
   "execution_count": 4,
   "id": "8abeda20",
   "metadata": {},
   "outputs": [],
   "source": [
    "# total number of possible combinations\n",
    "total_combinations = 1\n",
    "for i in range(1, 4):\n",
    "    total_combinations *= (7 - i + 1)\n",
    "for i in range(1, 4):\n",
    "    total_combinations //= i"
   ]
  },
  {
   "cell_type": "code",
   "execution_count": 5,
   "id": "03f20825",
   "metadata": {},
   "outputs": [],
   "source": [
    "# number of favorable combinations\n",
    "favorable_combinations = 3 * 4"
   ]
  },
  {
   "cell_type": "code",
   "execution_count": 6,
   "id": "4ac3eaff",
   "metadata": {},
   "outputs": [
    {
     "name": "stdout",
     "output_type": "stream",
     "text": [
      "Ймовірність виявлення двох зношених елементів при включенні приладу: 0.34285714285714286\n"
     ]
    }
   ],
   "source": [
    "probability = favorable_combinations / total_combinations\n",
    "print(\"Ймовірність виявлення двох зношених елементів при включенні приладу:\", probability)"
   ]
  },
  {
   "cell_type": "code",
   "execution_count": null,
   "id": "a3782494",
   "metadata": {},
   "outputs": [],
   "source": []
  }
 ],
 "metadata": {
  "kernelspec": {
   "display_name": "Python 3 (ipykernel)",
   "language": "python",
   "name": "python3"
  },
  "language_info": {
   "codemirror_mode": {
    "name": "ipython",
    "version": 3
   },
   "file_extension": ".py",
   "mimetype": "text/x-python",
   "name": "python",
   "nbconvert_exporter": "python",
   "pygments_lexer": "ipython3",
   "version": "3.10.8"
  }
 },
 "nbformat": 4,
 "nbformat_minor": 5
}
