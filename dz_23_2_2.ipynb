{
 "cells": [
  {
   "cell_type": "code",
   "execution_count": 1,
   "id": "a024b97d",
   "metadata": {},
   "outputs": [],
   "source": [
    "p_A = 0.95\n",
    "p_B = 0.9"
   ]
  },
  {
   "cell_type": "code",
   "execution_count": 2,
   "id": "b6c82d76",
   "metadata": {},
   "outputs": [
    {
     "name": "stdout",
     "output_type": "stream",
     "text": [
      "Ймовірність того, що при аварії спрацює тільки один сигналізатор: 0.14\n"
     ]
    }
   ],
   "source": [
    "# only one will work\n",
    "p_only_one = p_A * (1 - p_B) + (1 - p_A) * p_B\n",
    "print(\"Ймовірність того, що при аварії спрацює тільки один сигналізатор:\", p_only_one)"
   ]
  }
 ],
 "metadata": {
  "kernelspec": {
   "display_name": "Python 3 (ipykernel)",
   "language": "python",
   "name": "python3"
  },
  "language_info": {
   "codemirror_mode": {
    "name": "ipython",
    "version": 3
   },
   "file_extension": ".py",
   "mimetype": "text/x-python",
   "name": "python",
   "nbconvert_exporter": "python",
   "pygments_lexer": "ipython3",
   "version": "3.10.8"
  }
 },
 "nbformat": 4,
 "nbformat_minor": 5
}
