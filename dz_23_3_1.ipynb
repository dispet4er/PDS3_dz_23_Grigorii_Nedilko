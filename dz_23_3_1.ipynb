{
 "cells": [
  {
   "cell_type": "code",
   "execution_count": 2,
   "id": "a0d18ac7",
   "metadata": {},
   "outputs": [],
   "source": [
    "P_A_given_B1 = 0.6\n",
    "P_A_given_B2 = 0.84"
   ]
  },
  {
   "cell_type": "code",
   "execution_count": 3,
   "id": "09c7e7bb",
   "metadata": {},
   "outputs": [],
   "source": [
    "P_B1 = 2/3\n",
    "P_B2 = 1/3"
   ]
  },
  {
   "cell_type": "code",
   "execution_count": 4,
   "id": "c4dfbbf0",
   "metadata": {},
   "outputs": [
    {
     "name": "stdout",
     "output_type": "stream",
     "text": [
      "Імовірність того, що взятий випадковий виріб з конвеєра є виробом вищого гатунку: 0.6799999999999999\n"
     ]
    }
   ],
   "source": [
    "P_A = P_B1 * P_A_given_B1 + P_B2 * P_A_given_B2\n",
    "print(\"Імовірність того, що взятий випадковий виріб з конвеєра є виробом вищого гатунку:\", P_A)"
   ]
  },
  {
   "cell_type": "code",
   "execution_count": null,
   "id": "f9b070af",
   "metadata": {},
   "outputs": [],
   "source": []
  }
 ],
 "metadata": {
  "kernelspec": {
   "display_name": "Python 3 (ipykernel)",
   "language": "python",
   "name": "python3"
  },
  "language_info": {
   "codemirror_mode": {
    "name": "ipython",
    "version": 3
   },
   "file_extension": ".py",
   "mimetype": "text/x-python",
   "name": "python",
   "nbconvert_exporter": "python",
   "pygments_lexer": "ipython3",
   "version": "3.10.8"
  }
 },
 "nbformat": 4,
 "nbformat_minor": 5
}
